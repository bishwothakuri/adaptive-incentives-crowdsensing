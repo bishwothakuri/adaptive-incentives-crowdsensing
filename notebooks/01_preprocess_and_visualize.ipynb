{
 "cells": [
  {
   "cell_type": "markdown",
   "id": "0413e70c",
   "metadata": {},
   "source": [
    "# 01 — Preprocess & Visualize Bamberg Noise Data\n",
    "\n",
    "This notebook will:\n",
    "\n",
    "1. Load Bamberg’s boundary and noise point data  \n",
    "2. Clean the points (db-range, accuracy)  \n",
    "3. Generate a 100 m square grid, clipped to the city  \n",
    "4. Count how many points fall in each cell  \n",
    "5. Plot a static choropleth with GeoPandas  \n",
    "6. Create an interactive Folium map  \n"
   ]
  },
  {
   "cell_type": "code",
   "execution_count": 3,
   "id": "3e939a0d",
   "metadata": {},
   "outputs": [],
   "source": [
    "import numpy as np\n",
    "import geopandas as gpd\n",
    "import folium\n",
    "from shapely.geometry import box\n",
    "\n",
    "# File paths\n",
    "POINTS_FP = \"../data/raw/Germany_Bayern_Bamberg.points.geojson\"\n",
    "BOUNDARY_FP = \"../data/raw/Germany_Bayern_Bamberg.areas.geojson\"\n",
    "\n",
    "# CRS codes\n",
    "WGS84_CRS = 4326\n",
    "METRIC_CRS = 25832  # UTM zone 32N\n",
    "\n",
    "# Grid\n",
    "CELL_SIZE = 100  # meters"
   ]
  },
  {
   "cell_type": "code",
   "execution_count": 4,
   "id": "7490c77e",
   "metadata": {},
   "outputs": [
    {
     "name": "stdout",
     "output_type": "stream",
     "text": [
      "Raw points: 1,336\n",
      "Columns available: ['pk_track', 'time_ISO8601', 'time_epoch', 'time_gps_ISO8601', 'time_gps_epoch', 'noise_level', 'speed', 'orientation', 'accuracy', 'geometry']\n",
      "Filtered points: 950\n"
     ]
    }
   ],
   "source": [
    "# Cell 2 –– load & filter noise points\n",
    "\n",
    "\n",
    "def clean_points(gdf, db_col=\"noise_level\", min_db=30, max_db=120, max_acc=15):\n",
    "    \"\"\"Keep only points with realistic noise levels & accuracy.\"\"\"\n",
    "    mask = (gdf[db_col] >= min_db) & (gdf[db_col] <= max_db)\n",
    "    gdf = gdf[mask]\n",
    "    if \"accuracy\" in gdf.columns:\n",
    "        gdf = gdf[gdf[\"accuracy\"] <= max_acc]\n",
    "    return gdf\n",
    "\n",
    "\n",
    "# load\n",
    "boundary = gpd.read_file(BOUNDARY_FP)\n",
    "points = gpd.read_file(POINTS_FP)\n",
    "\n",
    "print(f\"Raw points: {len(points):,}\")\n",
    "print(\"Columns available:\", points.columns.tolist())\n",
    "\n",
    "# clean using the correct column name\n",
    "points = clean_points(points, db_col=\"noise_level\")\n",
    "print(f\"Filtered points: {len(points):,}\")"
   ]
  },
  {
   "cell_type": "code",
   "execution_count": 5,
   "id": "8c5ef6bb",
   "metadata": {},
   "outputs": [
    {
     "name": "stdout",
     "output_type": "stream",
     "text": [
      "✓ Points now in EPSG:25832 (units = metres)\n",
      "Bounds (metres): [ 631011.26767521 5526504.36829996  643419.87081591 5542474.52891367]\n"
     ]
    }
   ],
   "source": [
    "# Cell 3: project points into metres so our 100 m grid is accurate\n",
    "\n",
    "# we choose EPSG:25832 (UTM zone 32N), which uses metres\n",
    "points_m = points.to_crs(epsg=25832)\n",
    "\n",
    "print(\"✓ Points now in EPSG:25832 (units = metres)\")\n",
    "print(\"Bounds (metres):\", points_m.total_bounds)"
   ]
  },
  {
   "cell_type": "code",
   "execution_count": 6,
   "id": "4c6fcaf2",
   "metadata": {},
   "outputs": [
    {
     "name": "stdout",
     "output_type": "stream",
     "text": [
      "✓ Built 20000 raw grid cells (100 m each).\n"
     ]
    }
   ],
   "source": [
    "# Cell 4: build a fishnet of 100 m cells covering all measurements\n",
    "\n",
    "# 1) Compute min/max X/Y in metres\n",
    "minx, miny, maxx, maxy = points_m.total_bounds\n",
    "\n",
    "# 2) Create all square cells\n",
    "step = 100  # 100 m\n",
    "xs = np.arange(minx, maxx + step, step)\n",
    "ys = np.arange(miny, maxy + step, step)\n",
    "\n",
    "cells = []\n",
    "for x in xs[:-1]:\n",
    "    for y in ys[:-1]:\n",
    "        cells.append(box(x, y, x + step, y + step))\n",
    "\n",
    "grid_m = gpd.GeoDataFrame(geometry=cells, crs=points_m.crs)\n",
    "print(f\"✓ Built {len(grid_m)} raw grid cells (100 m each).\")"
   ]
  },
  {
   "cell_type": "code",
   "execution_count": 7,
   "id": "78267718",
   "metadata": {},
   "outputs": [
    {
     "name": "stdout",
     "output_type": "stream",
     "text": [
      "✓ Counted points in each cell.\n",
      "count    20000.000000\n",
      "mean         0.047400\n",
      "std          2.730353\n",
      "min          0.000000\n",
      "25%          0.000000\n",
      "50%          0.000000\n",
      "75%          0.000000\n",
      "max        250.000000\n",
      "Name: pt_count, dtype: float64\n"
     ]
    }
   ],
   "source": [
    "# Cell 5: spatial‐join & count\n",
    "\n",
    "# 1) assign each point to its grid cell\n",
    "joined = gpd.sjoin(points_m, grid_m, how=\"inner\", predicate=\"within\")\n",
    "\n",
    "# 2) count points per cell index\n",
    "counts = joined.groupby(\"index_right\").size().rename(\"pt_count\")\n",
    "\n",
    "# 3) attach back to our grid\n",
    "grid_m[\"pt_count\"] = counts\n",
    "grid_m[\"pt_count\"] = grid_m[\"pt_count\"].fillna(0).astype(int)\n",
    "\n",
    "print(\"✓ Counted points in each cell.\")\n",
    "print(grid_m[\"pt_count\"].describe())"
   ]
  },
  {
   "cell_type": "code",
   "execution_count": null,
   "id": "0c55f5fd",
   "metadata": {},
   "outputs": [
    {
     "ename": "NameError",
     "evalue": "name 'S' is not defined",
     "output_type": "error",
     "traceback": [
      "\u001b[31m---------------------------------------------------------------------------\u001b[39m",
      "\u001b[31mNameError\u001b[39m                                 Traceback (most recent call last)",
      "\u001b[36mCell\u001b[39m\u001b[36m \u001b[39m\u001b[32mIn[8]\u001b[39m\u001b[32m, line 58\u001b[39m\n\u001b[32m     45\u001b[39m     radius = \u001b[38;5;28mmin\u001b[39m(\u001b[38;5;28mmax\u001b[39m((db - \u001b[32m30\u001b[39m) / \u001b[32m10\u001b[39m, \u001b[32m3\u001b[39m), \u001b[32m10\u001b[39m)\n\u001b[32m     47\u001b[39m     folium.CircleMarker(\n\u001b[32m     48\u001b[39m         location=[lat, lon],\n\u001b[32m     49\u001b[39m         radius=radius,\n\u001b[32m   (...)\u001b[39m\u001b[32m     56\u001b[39m         ),\n\u001b[32m     57\u001b[39m     ).add_to(marker_cluster)\n\u001b[32m---> \u001b[39m\u001b[32m58\u001b[39m \u001b[43mS\u001b[49m\n\u001b[32m     59\u001b[39m \u001b[38;5;66;03m# 8) layer control\u001b[39;00m\n\u001b[32m     60\u001b[39m folium.LayerControl(collapsed=\u001b[38;5;28;01mFalse\u001b[39;00m).add_to(m)\n",
      "\u001b[31mNameError\u001b[39m: name 'S' is not defined"
     ]
    }
   ],
   "source": [
    "# Cell 6: interactive map with folium\n",
    "from folium.plugins import MarkerCluster\n",
    "import branca.colormap as cm\n",
    "\n",
    "# 1) reproject back to WGS84 for Folium\n",
    "grid_wgs = grid_m.to_crs(epsg=4326)\n",
    "pts_wgs = points.to_crs(epsg=4326)\n",
    "\n",
    "# 2) build a simple linear colormap from 30 dB→120 dB\n",
    "colormap = cm.LinearColormap(\n",
    "    [\"green\", \"yellow\", \"red\"], vmin=30, vmax=120, caption=\"Noise level (dB)\"\n",
    ")\n",
    "\n",
    "# 3) pick the map centre\n",
    "centre = pts_wgs.unary_union.centroid\n",
    "\n",
    "# 4) create the map\n",
    "m = folium.Map(\n",
    "    location=[centre.y, centre.x], zoom_start=13, tiles=\"OpenStreetMap\"\n",
    ")\n",
    "\n",
    "# 5) add the colormap legend\n",
    "colormap.add_to(m)\n",
    "\n",
    "# 6) draw your 100 m grid (no fill, thin grey lines)\n",
    "folium.GeoJson(\n",
    "    grid_wgs,\n",
    "    style_function=lambda feat: {\n",
    "        \"fillOpacity\": 0,\n",
    "        \"weight\": 0.3,\n",
    "        \"color\": \"#444444\",\n",
    "    },\n",
    "    name=\"100 m grid\",\n",
    ").add_to(m)\n",
    "\n",
    "# 7) cluster & plot each noise point\n",
    "marker_cluster = MarkerCluster(name=\"Noise readings\").add_to(m)\n",
    "\n",
    "for _, row in pts_wgs.iterrows():\n",
    "    db = row[\"noise_level\"]\n",
    "    time = row[\"time_ISO8601\"]\n",
    "    lat, lon = row.geometry.y, row.geometry.x\n",
    "\n",
    "    # radius scaled 1px per 10 dB, clipped between 3 and 10px\n",
    "    radius = min(max((db - 30) / 10, 3), 10)\n",
    "\n",
    "    folium.CircleMarker(\n",
    "        location=[lat, lon],\n",
    "        radius=radius,\n",
    "        color=colormap(db),\n",
    "        fill=True,\n",
    "        fill_color=colormap(db),\n",
    "        fill_opacity=0.8,\n",
    "        popup=folium.Popup(\n",
    "            f\"<b>Noise:</b> {db:.1f} dB<br><b>Time:</b> {time}\", max_width=200\n",
    "        ),\n",
    "    ).add_to(marker_cluster)\n",
    "\n",
    "# 8) layer control\n",
    "folium.LayerControl(collapsed=False).add_to(m)\n",
    "\n",
    "m  # renders live in Jupyter"
   ]
  },
  {
   "cell_type": "code",
   "execution_count": null,
   "id": "54e6f5be",
   "metadata": {},
   "outputs": [],
   "source": []
  }
 ],
 "metadata": {
  "kernelspec": {
   "display_name": ".venv",
   "language": "python",
   "name": "python3"
  },
  "language_info": {
   "codemirror_mode": {
    "name": "ipython",
    "version": 3
   },
   "file_extension": ".py",
   "mimetype": "text/x-python",
   "name": "python",
   "nbconvert_exporter": "python",
   "pygments_lexer": "ipython3",
   "version": "3.12.0"
  }
 },
 "nbformat": 4,
 "nbformat_minor": 5
}
